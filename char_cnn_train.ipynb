{
 "cells": [
  {
   "cell_type": "code",
   "execution_count": 3,
   "metadata": {},
   "outputs": [],
   "source": [
    "import numpy as np\n",
    "import keras, cv2\n",
    "from keras.preprocessing.image import ImageDataGenerator\n",
    "from keras.models import Sequential\n",
    "from keras.layers import Dense, Flatten, MaxPooling2D, Dropout, Conv2D\n",
    "from keras import optimizers\n",
    "from keras.callbacks import ModelCheckpoint\n",
    "import matplotlib.pyplot as plt"
   ]
  },
  {
   "cell_type": "code",
   "execution_count": 4,
   "metadata": {},
   "outputs": [
    {
     "name": "stdout",
     "output_type": "stream",
     "text": [
      "Found 996 images belonging to 36 classes.\n",
      "Found 222 images belonging to 36 classes.\n"
     ]
    }
   ],
   "source": [
    "train_datagen = ImageDataGenerator(rescale=1./255, width_shift_range=0.1, height_shift_range=0.1, \n",
    "                                   rotation_range=5,fill_mode='constant',shear_range=0.1)\n",
    "train_generator = train_datagen.flow_from_directory(\n",
    "        'character_set/train', \n",
    "        target_size=(28,28),  \n",
    "        batch_size=16,\n",
    "        color_mode = 'grayscale',\n",
    "        class_mode='categorical')\n",
    "\n",
    "validation_generator = train_datagen.flow_from_directory(\n",
    "        'character_set/val',  \n",
    "        target_size=(28,28),\n",
    "        batch_size=1,\n",
    "        color_mode = 'grayscale',\n",
    "        class_mode='categorical')"
   ]
  },
  {
   "cell_type": "code",
   "execution_count": 5,
   "metadata": {},
   "outputs": [
    {
     "data": {
      "text/plain": [
       "<matplotlib.image.AxesImage at 0x1557b347888>"
      ]
     },
     "execution_count": 5,
     "metadata": {},
     "output_type": "execute_result"
    },
    {
     "data": {
      "image/png": "[encoded data removed]",
      "text/plain": [
       "<Figure size 432x288 with 1 Axes>"
      ]
     },
     "metadata": {
      "needs_background": "light"
     },
     "output_type": "display_data"
    }
   ],
   "source": [
    "plt.imshow(np.squeeze(train_generator[0][0][2]), cmap='gray')"
   ]
  },
  {
   "cell_type": "code",
   "execution_count": 11,
   "metadata": {},
   "outputs": [
    {
     "name": "stdout",
     "output_type": "stream",
     "text": [
      "Model: \"sequential_4\"\n",
      "_________________________________________________________________\n",
      "Layer (type)                 Output Shape              Param #   \n",
      "=================================================================\n",
      "conv2d_7 (Conv2D)            (None, 26, 26, 16)        160       \n",
      "_________________________________________________________________\n",
      "conv2d_8 (Conv2D)            (None, 24, 24, 32)        4640      \n",
      "_________________________________________________________________\n",
      "max_pooling2d_4 (MaxPooling2 (None, 12, 12, 32)        0         \n",
      "_________________________________________________________________\n",
      "dropout_7 (Dropout)          (None, 12, 12, 32)        0         \n",
      "_________________________________________________________________\n",
      "flatten_4 (Flatten)          (None, 4608)              0         \n",
      "_________________________________________________________________\n",
      "dense_7 (Dense)              (None, 64)                294976    \n",
      "_________________________________________________________________\n",
      "dropout_8 (Dropout)          (None, 64)                0         \n",
      "_________________________________________________________________\n",
      "dense_8 (Dense)              (None, 36)                2340      \n",
      "=================================================================\n",
      "Total params: 302,116\n",
      "Trainable params: 302,116\n",
      "Non-trainable params: 0\n",
      "_________________________________________________________________\n"
     ]
    }
   ],
   "source": [
    "model = Sequential()\n",
    "model.add(Conv2D(16, kernel_size=(3, 3),\n",
    "                 activation='relu',\n",
    "                 input_shape=(28,28,1)))\n",
    "model.add(Conv2D(32, (3, 3), activation='relu'))\n",
    "model.add(MaxPooling2D(pool_size=(2, 2)))\n",
    "model.add(Dropout(0.25))\n",
    "model.add(Flatten())\n",
    "model.add(Dense(64, activation='relu'))\n",
    "model.add(Dropout(0.5))\n",
    "model.add(Dense(36, activation='softmax'))     # 36 classes: A-Z, 0-9\n",
    "\n",
    "model.summary()"
   ]
  },
  {
   "cell_type": "code",
   "execution_count": 12,
   "metadata": {},
   "outputs": [],
   "source": [
    "# model.load_weights('char_best_weights--0.9820.hdf5')"
   ]
  },
  {
   "cell_type": "code",
   "execution_count": 16,
   "metadata": {},
   "outputs": [],
   "source": [
    "ckpt = ModelCheckpoint('char_weights--{val_accuracy:.4f}.hdf5', monitor='val_accuracy', verbose=0, save_best_only=True)\n",
    "model.compile(loss='categorical_crossentropy', optimizer=optimizers.Adam(lr=1e-4), metrics=['accuracy'])"
   ]
  },
  {
   "cell_type": "code",
   "execution_count": 17,
   "metadata": {},
   "outputs": [
    {
     "name": "stdout",
     "output_type": "stream",
     "text": [
      "Epoch 1/10\n",
      "996/996 [==============================] - 18s 18ms/step - loss: 0.1158 - accuracy: 0.9537 - val_loss: 3.3379e-06 - val_accuracy: 0.9910\n",
      "Epoch 2/10\n",
      "996/996 [==============================] - 18s 18ms/step - loss: 0.1006 - accuracy: 0.9602 - val_loss: 1.7881e-06 - val_accuracy: 0.9820\n",
      "Epoch 3/10\n",
      "996/996 [==============================] - 17s 18ms/step - loss: 0.0985 - accuracy: 0.9629 - val_loss: 1.4305e-06 - val_accuracy: 1.0000\n",
      "Epoch 4/10\n",
      "996/996 [==============================] - 17s 17ms/step - loss: 0.0937 - accuracy: 0.9626 - val_loss: 1.1921e-07 - val_accuracy: 0.9910\n",
      "Epoch 5/10\n",
      "996/996 [==============================] - 18s 18ms/step - loss: 0.0861 - accuracy: 0.9643 - val_loss: 0.0000e+00 - val_accuracy: 0.9910\n",
      "Epoch 6/10\n",
      "996/996 [==============================] - 17s 17ms/step - loss: 0.0862 - accuracy: 0.9646 - val_loss: 0.0000e+00 - val_accuracy: 0.9910\n",
      "Epoch 7/10\n",
      "996/996 [==============================] - 18s 18ms/step - loss: 0.0864 - accuracy: 0.9657 - val_loss: 0.0000e+00 - val_accuracy: 0.9910\n",
      "Epoch 8/10\n",
      "996/996 [==============================] - 18s 18ms/step - loss: 0.0858 - accuracy: 0.9633 - val_loss: 0.0000e+00 - val_accuracy: 0.9955\n",
      "Epoch 9/10\n",
      "996/996 [==============================] - 18s 18ms/step - loss: 0.0867 - accuracy: 0.9654 - val_loss: 0.0000e+00 - val_accuracy: 1.0000\n",
      "Epoch 10/10\n",
      "996/996 [==============================] - 18s 18ms/step - loss: 0.0836 - accuracy: 0.9654 - val_loss: 0.0000e+00 - val_accuracy: 0.9910\n"
     ]
    },
    {
     "data": {
      "text/plain": [
       "<keras.callbacks.callbacks.History at 0x1556be13e48>"
      ]
     },
     "execution_count": 17,
     "metadata": {},
     "output_type": "execute_result"
    }
   ],
   "source": [
    "model.fit_generator(\n",
    "      train_generator,\n",
    "      steps_per_epoch = train_generator.samples ,\n",
    "      validation_data = validation_generator, \n",
    "      validation_steps = validation_generator.samples,\n",
    "      epochs = 10,\n",
    "       callbacks = [ckpt])"
   ]
  },
  {
   "cell_type": "code",
   "execution_count": 18,
   "metadata": {},
   "outputs": [
    {
     "data": {
      "text/plain": [
       "[0.0, 0.9864864945411682]"
      ]
     },
     "execution_count": 18,
     "metadata": {},
     "output_type": "execute_result"
    }
   ],
   "source": [
    "model.evaluate_generator(validation_generator)"
   ]
  },
  {
   "cell_type": "code",
   "execution_count": 19,
   "metadata": {},
   "outputs": [],
   "source": [
    "img = cv2.imread('test.png', 0)\n",
    "img = img.reshape(1,28,28,1)\n",
    "img = img/255.0"
   ]
  },
  {
   "cell_type": "code",
   "execution_count": 20,
   "metadata": {},
   "outputs": [
    {
     "data": {
      "text/plain": [
       "{0: 'class_0',\n",
       " 1: 'class_1',\n",
       " 2: 'class_2',\n",
       " 3: 'class_3',\n",
       " 4: 'class_4',\n",
       " 5: 'class_5',\n",
       " 6: 'class_6',\n",
       " 7: 'class_7',\n",
       " 8: 'class_8',\n",
       " 9: 'class_9',\n",
       " 10: 'class_A',\n",
       " 11: 'class_B',\n",
       " 12: 'class_C',\n",
       " 13: 'class_D',\n",
       " 14: 'class_E',\n",
       " 15: 'class_F',\n",
       " 16: 'class_G',\n",
       " 17: 'class_H',\n",
       " 18: 'class_I',\n",
       " 19: 'class_J',\n",
       " 20: 'class_K',\n",
       " 21: 'class_L',\n",
       " 22: 'class_M',\n",
       " 23: 'class_N',\n",
       " 24: 'class_O',\n",
       " 25: 'class_P',\n",
       " 26: 'class_Q',\n",
       " 27: 'class_R',\n",
       " 28: 'class_S',\n",
       " 29: 'class_T',\n",
       " 30: 'class_U',\n",
       " 31: 'class_V',\n",
       " 32: 'class_W',\n",
       " 33: 'class_X',\n",
       " 34: 'class_Y',\n",
       " 35: 'class_Z'}"
      ]
     },
     "execution_count": 20,
     "metadata": {},
     "output_type": "execute_result"
    }
   ],
   "source": [
    "labels = (train_generator.class_indices)\n",
    "labels = dict((v,k) for k,v in labels.items())\n",
    "labels"
   ]
  },
  {
   "cell_type": "code",
   "execution_count": 21,
   "metadata": {},
   "outputs": [],
   "source": [
    "idx = model.predict_classes(img)"
   ]
  },
  {
   "cell_type": "code",
   "execution_count": 22,
   "metadata": {},
   "outputs": [
    {
     "data": {
      "text/plain": [
       "'I'"
      ]
     },
     "execution_count": 22,
     "metadata": {},
     "output_type": "execute_result"
    }
   ],
   "source": [
    "labels[idx[0]].split('_')[1]"
   ]
  },
  {
   "cell_type": "code",
   "execution_count": null,
   "metadata": {},
   "outputs": [],
   "source": []
  },
  {
   "cell_type": "code",
   "execution_count": null,
   "metadata": {},
   "outputs": [],
   "source": []
  }
 ],
 "metadata": {
  "kernelspec": {
   "display_name": "Python 3",
   "language": "python",
   "name": "python3"
  },
  "language_info": {
   "codemirror_mode": {
    "name": "ipython",
    "version": 3
   },
   "file_extension": ".py",
   "mimetype": "text/x-python",
   "name": "python",
   "nbconvert_exporter": "python",
   "pygments_lexer": "ipython3",
   "version": "3.7.6"
  }
 },
 "nbformat": 4,
 "nbformat_minor": 4
}
